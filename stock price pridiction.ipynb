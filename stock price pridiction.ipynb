{
 "cells": [
  {
   "cell_type": "code",
   "execution_count": 1,
   "id": "b262906c",
   "metadata": {},
   "outputs": [],
   "source": [
    "import numpy as np\n",
    "import pandas as pd\n",
    "import matplotlib.pyplot as plt\n",
    "import datetime \n",
    "import yfinance as yf\n",
    "#import yfinance as yf\n",
    "from sklearn.preprocessing import MinMaxScaler\n",
    "from tensorflow.keras.models import Sequential\n",
    "from tensorflow.keras.layers import LSTM, Dense, Dropout\n"
   ]
  },
  {
   "cell_type": "code",
   "execution_count": 2,
   "id": "98c3ec7f",
   "metadata": {},
   "outputs": [],
   "source": [
    "\n",
    "stock_symbol = 'AAPL'\n",
    "start_date = '2010-01-01'\n",
    "end_date = '2021-12-31'"
   ]
  },
  {
   "cell_type": "code",
   "execution_count": 3,
   "id": "4d13f9f8",
   "metadata": {},
   "outputs": [
    {
     "name": "stdout",
     "output_type": "stream",
     "text": [
      "[*********************100%%**********************]  1 of 1 completed\n"
     ]
    }
   ],
   "source": [
    "data = yf.download(stock_symbol, start=start_date, end=end_date)"
   ]
  },
  {
   "cell_type": "code",
   "execution_count": 4,
   "id": "52c18f90",
   "metadata": {},
   "outputs": [
    {
     "data": {
      "text/plain": [
       "Date\n",
       "2010-01-04      7.643214\n",
       "2010-01-05      7.656429\n",
       "2010-01-06      7.534643\n",
       "2010-01-07      7.520714\n",
       "2010-01-08      7.570714\n",
       "                 ...    \n",
       "2021-12-23    176.279999\n",
       "2021-12-27    180.330002\n",
       "2021-12-28    179.289993\n",
       "2021-12-29    179.380005\n",
       "2021-12-30    178.199997\n",
       "Name: Close, Length: 3020, dtype: float64"
      ]
     },
     "execution_count": 4,
     "metadata": {},
     "output_type": "execute_result"
    }
   ],
   "source": [
    "data = data['Close']\n",
    "data"
   ]
  },
  {
   "cell_type": "code",
   "execution_count": 5,
   "id": "6bda2e2d",
   "metadata": {},
   "outputs": [],
   "source": [
    "# Normalize the data\n",
    "scaler = MinMaxScaler()\n",
    "data = scaler.fit_transform(np.array(data).reshape(-1, 1))"
   ]
  },
  {
   "cell_type": "code",
   "execution_count": 6,
   "id": "2364e5b3",
   "metadata": {},
   "outputs": [],
   "source": [
    "# Create training and testing datasets\n",
    "train_size = int(len(data) * 0.8)\n",
    "train_data = data[:train_size]\n",
    "test_data = data[train_size:]"
   ]
  },
  {
   "cell_type": "code",
   "execution_count": 7,
   "id": "0a3b58dd",
   "metadata": {},
   "outputs": [],
   "source": [
    "# Create sequences of data for training\n",
    "def create_sequences(data, seq_length):\n",
    "    sequences = []\n",
    "    target = []\n",
    "    for i in range(len(data) - seq_length):\n",
    "        seq = data[i:i+seq_length]\n",
    "        label = data[i+seq_length]\n",
    "        sequences.append(seq)\n",
    "        target.append(label)\n",
    "    return np.array(sequences), np.array(target)\n",
    "\n",
    "seq_length = 100 # Adjust this parameter as needed\n",
    "X_train, y_train = create_sequences(train_data, seq_length)\n",
    "X_test, y_test = create_sequences(test_data, seq_length)"
   ]
  },
  {
   "cell_type": "code",
   "execution_count": 8,
   "id": "42f6d5a8",
   "metadata": {},
   "outputs": [],
   "source": [
    "# Build the LSTM model\n",
    "model = Sequential()\n",
    "model.add(LSTM(50, input_shape=(seq_length, 1)))\n",
    "model.add(Dense(1))\n",
    "model.compile(optimizer='adam', loss='mean_squared_error')"
   ]
  },
  {
   "cell_type": "code",
   "execution_count": 9,
   "id": "23864bfa",
   "metadata": {},
   "outputs": [
    {
     "name": "stdout",
     "output_type": "stream",
     "text": [
      "Epoch 1/50\n",
      "73/73 [==============================] - 3s 21ms/step - loss: 0.0016\n",
      "Epoch 2/50\n",
      "73/73 [==============================] - 2s 21ms/step - loss: 3.9811e-05\n",
      "Epoch 3/50\n",
      "73/73 [==============================] - 2s 22ms/step - loss: 3.5755e-05\n",
      "Epoch 4/50\n",
      "73/73 [==============================] - 2s 21ms/step - loss: 3.4284e-05\n",
      "Epoch 5/50\n",
      "73/73 [==============================] - 2s 21ms/step - loss: 3.2894e-05\n",
      "Epoch 6/50\n",
      "73/73 [==============================] - 2s 22ms/step - loss: 3.1484e-05\n",
      "Epoch 7/50\n",
      "73/73 [==============================] - 2s 21ms/step - loss: 3.1111e-05\n",
      "Epoch 8/50\n",
      "73/73 [==============================] - 2s 22ms/step - loss: 2.9439e-05\n",
      "Epoch 9/50\n",
      "73/73 [==============================] - 2s 21ms/step - loss: 2.8539e-05\n",
      "Epoch 10/50\n",
      "73/73 [==============================] - 2s 21ms/step - loss: 2.7180e-05\n",
      "Epoch 11/50\n",
      "73/73 [==============================] - 2s 21ms/step - loss: 2.7317e-05\n",
      "Epoch 12/50\n",
      "73/73 [==============================] - 2s 21ms/step - loss: 2.6233e-05\n",
      "Epoch 13/50\n",
      "73/73 [==============================] - 2s 21ms/step - loss: 2.6806e-05\n",
      "Epoch 14/50\n",
      "73/73 [==============================] - 2s 21ms/step - loss: 2.4967e-05\n",
      "Epoch 15/50\n",
      "73/73 [==============================] - 2s 21ms/step - loss: 2.3930e-05\n",
      "Epoch 16/50\n",
      "73/73 [==============================] - 2s 21ms/step - loss: 2.3660e-05\n",
      "Epoch 17/50\n",
      "73/73 [==============================] - 2s 22ms/step - loss: 2.5489e-05\n",
      "Epoch 18/50\n",
      "73/73 [==============================] - 2s 21ms/step - loss: 2.1900e-05\n",
      "Epoch 19/50\n",
      "73/73 [==============================] - 2s 21ms/step - loss: 2.3386e-05\n",
      "Epoch 20/50\n",
      "73/73 [==============================] - 2s 21ms/step - loss: 2.2291e-05\n",
      "Epoch 21/50\n",
      "73/73 [==============================] - 2s 21ms/step - loss: 2.2228e-05\n",
      "Epoch 22/50\n",
      "73/73 [==============================] - 2s 21ms/step - loss: 2.0943e-05\n",
      "Epoch 23/50\n",
      "73/73 [==============================] - 2s 21ms/step - loss: 2.1820e-05\n",
      "Epoch 24/50\n",
      "73/73 [==============================] - 2s 21ms/step - loss: 1.9549e-05\n",
      "Epoch 25/50\n",
      "73/73 [==============================] - 2s 22ms/step - loss: 2.1142e-05\n",
      "Epoch 26/50\n",
      "73/73 [==============================] - 2s 21ms/step - loss: 1.9553e-05\n",
      "Epoch 27/50\n",
      "73/73 [==============================] - 2s 21ms/step - loss: 1.9560e-05\n",
      "Epoch 28/50\n",
      "73/73 [==============================] - 2s 21ms/step - loss: 1.9040e-05\n",
      "Epoch 29/50\n",
      "73/73 [==============================] - 2s 22ms/step - loss: 1.9457e-05\n",
      "Epoch 30/50\n",
      "73/73 [==============================] - 2s 22ms/step - loss: 1.8457e-05\n",
      "Epoch 31/50\n",
      "73/73 [==============================] - 2s 22ms/step - loss: 1.9029e-05\n",
      "Epoch 32/50\n",
      "73/73 [==============================] - 2s 23ms/step - loss: 1.8684e-05\n",
      "Epoch 33/50\n",
      "73/73 [==============================] - 2s 22ms/step - loss: 1.7351e-05\n",
      "Epoch 34/50\n",
      "73/73 [==============================] - 2s 22ms/step - loss: 1.7373e-05\n",
      "Epoch 35/50\n",
      "73/73 [==============================] - 2s 21ms/step - loss: 1.7163e-05\n",
      "Epoch 36/50\n",
      "73/73 [==============================] - 2s 21ms/step - loss: 1.6913e-05\n",
      "Epoch 37/50\n",
      "73/73 [==============================] - 2s 22ms/step - loss: 1.6017e-05\n",
      "Epoch 38/50\n",
      "73/73 [==============================] - 2s 21ms/step - loss: 1.8526e-05\n",
      "Epoch 39/50\n",
      "73/73 [==============================] - 2s 21ms/step - loss: 1.7809e-05\n",
      "Epoch 40/50\n",
      "73/73 [==============================] - 2s 21ms/step - loss: 1.6821e-05\n",
      "Epoch 41/50\n",
      "73/73 [==============================] - 2s 21ms/step - loss: 1.5562e-05\n",
      "Epoch 42/50\n",
      "73/73 [==============================] - 2s 22ms/step - loss: 1.5084e-05\n",
      "Epoch 43/50\n",
      "73/73 [==============================] - 2s 21ms/step - loss: 1.4688e-05\n",
      "Epoch 44/50\n",
      "73/73 [==============================] - 2s 21ms/step - loss: 1.4516e-05\n",
      "Epoch 45/50\n",
      "73/73 [==============================] - 2s 21ms/step - loss: 1.4394e-05\n",
      "Epoch 46/50\n",
      "73/73 [==============================] - 2s 21ms/step - loss: 1.4748e-05\n",
      "Epoch 47/50\n",
      "73/73 [==============================] - 2s 22ms/step - loss: 1.4263e-05\n",
      "Epoch 48/50\n",
      "73/73 [==============================] - 2s 22ms/step - loss: 1.6767e-05\n",
      "Epoch 49/50\n",
      "73/73 [==============================] - 2s 21ms/step - loss: 1.4975e-05\n",
      "Epoch 50/50\n",
      "73/73 [==============================] - 2s 21ms/step - loss: 1.3594e-05\n",
      "16/16 [==============================] - 0s 9ms/step\n"
     ]
    }
   ],
   "source": [
    "# Train the model\n",
    "model.fit(X_train, y_train, epochs=50, batch_size=32)\n",
    "\n",
    "# Make predictions\n",
    "predicted_prices = model.predict(X_test)"
   ]
  },
  {
   "cell_type": "code",
   "execution_count": 10,
   "id": "2a8b6ffa",
   "metadata": {},
   "outputs": [],
   "source": [
    "# Inverse transform the predictions to get actual stock prices\n",
    "predicted_prices = scaler.inverse_transform(predicted_prices)\n"
   ]
  },
  {
   "cell_type": "code",
   "execution_count": 11,
   "id": "d5146949",
   "metadata": {},
   "outputs": [
    {
     "data": {
      "image/png": "[encoded data removed]",
      "text/plain": [
       "<Figure size 1200x600 with 1 Axes>"
      ]
     },
     "metadata": {},
     "output_type": "display_data"
    }
   ],
   "source": [
    "# Visualize the predictions\n",
    "plt.figure(figsize=(12, 6))\n",
    "plt.plot(data, label='Actual Prices', color='blue')\n",
    "plt.plot(np.arange(train_size+seq_length, len(data)), predicted_prices, label='Predicted Prices', color='red')\n",
    "plt.xlabel('Time')\n",
    "plt.ylabel('Stock Price')\n",
    "plt.title(f'{stock_symbol} Stock Price Prediction')\n",
    "plt.legend()\n",
    "plt.show()"
   ]
  },
  {
   "cell_type": "code",
   "execution_count": null,
   "id": "f2b0723f",
   "metadata": {},
   "outputs": [],
   "source": []
  },
  {
   "cell_type": "code",
   "execution_count": null,
   "id": "540237f7",
   "metadata": {},
   "outputs": [],
   "source": []
  }
 ],
 "metadata": {
  "kernelspec": {
   "display_name": "Python 3 (ipykernel)",
   "language": "python",
   "name": "python3"
  },
  "language_info": {
   "codemirror_mode": {
    "name": "ipython",
    "version": 3
   },
   "file_extension": ".py",
   "mimetype": "text/x-python",
   "name": "python",
   "nbconvert_exporter": "python",
   "pygments_lexer": "ipython3",
   "version": "3.10.2"
  }
 },
 "nbformat": 4,
 "nbformat_minor": 5
}
